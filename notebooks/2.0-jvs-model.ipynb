{
 "metadata": {
  "language_info": {
   "codemirror_mode": {
    "name": "ipython",
    "version": 3
   },
   "file_extension": ".py",
   "mimetype": "text/x-python",
   "name": "python",
   "nbconvert_exporter": "python",
   "pygments_lexer": "ipython3",
   "version": "3.7.9"
  },
  "orig_nbformat": 2,
  "kernelspec": {
   "name": "python379jvsc74a57bd03a8d1a65ccdf25d05a2c0b91b96bb81d63eb45bf11592073cff9d0fd30401601",
   "display_name": "Python 3.7.9 64-bit ('titanic_platzi': conda)"
  },
  "metadata": {
   "interpreter": {
    "hash": "3a8d1a65ccdf25d05a2c0b91b96bb81d63eb45bf11592073cff9d0fd30401601"
   }
  }
 },
 "nbformat": 4,
 "nbformat_minor": 2,
 "cells": [
  {
   "source": [
    "# 2.0 Model"
   ],
   "cell_type": "markdown",
   "metadata": {}
  },
  {
   "source": [
    "## Simple set up"
   ],
   "cell_type": "markdown",
   "metadata": {}
  },
  {
   "cell_type": "code",
   "execution_count": null,
   "metadata": {},
   "outputs": [],
   "source": [
    "%run 0.2-jvs-before_to_start.ipynb"
   ]
  },
  {
   "source": [
    "## Import libraries"
   ],
   "cell_type": "markdown",
   "metadata": {}
  },
  {
   "source": [
    "import janitor\n",
    "import shap\n",
    "\n",
    "import matplotlib.pyplot as plt\n",
    "import numpy as np\n",
    "import pandas as pd\n",
    "import pandas_flavor as pf\n",
    "import seaborn as sns\n",
    "import xgboost as xgb\n",
    "\n",
    "from sklearn.model_selection import (\n",
    "    GridSearchCV,\n",
    "    train_test_split,\n",
    "    ShuffleSplit\n",
    ")"
   ],
   "cell_type": "code",
   "metadata": {},
   "execution_count": null,
   "outputs": []
  },
  {
   "source": [
    "## Set plot defaults"
   ],
   "cell_type": "markdown",
   "metadata": {}
  },
  {
   "cell_type": "code",
   "execution_count": null,
   "metadata": {},
   "outputs": [],
   "source": [
    "plt.style.use(\"seaborn\")\n",
    "sns.set_style(\"whitegrid\")"
   ]
  },
  {
   "source": [
    "## Load data"
   ],
   "cell_type": "markdown",
   "metadata": {}
  },
  {
   "cell_type": "code",
   "execution_count": null,
   "metadata": {},
   "outputs": [],
   "source": [
    "titanic_dfs = {\n",
    "    f\"{file.stem}\": pd.read_csv(filepath_or_buffer=file)\n",
    "    for file in data_processed_dir().glob(\"*.csv\")\n",
    "}\n",
    "\n",
    "[display(df_name, df.head(2)) for df_name, df in titanic_dfs.items()];\n",
    "locals().update(titanic_dfs)"
   ]
  },
  {
   "source": [
    "## Prepare data"
   ],
   "cell_type": "markdown",
   "metadata": {}
  },
  {
   "cell_type": "code",
   "execution_count": null,
   "metadata": {},
   "outputs": [],
   "source": [
    "titanic_proccessed = (\n",
    "    titanic_train_df\n",
    "    .remove_columns([\"passenger_id\"])\n",
    "    .select_columns([pd.api.types.is_numeric_dtype, \"sex\", \"embarked\"])\n",
    "    .transform_columns(\n",
    "        column_names=[\"sex\", \"embarked\"],\n",
    "        function=lambda column: column.factorize()[0],\n",
    "        elementwise=False\n",
    "    )\n",
    "    .dropna()\n",
    ")\n",
    "\n",
    "titanic_proccessed"
   ]
  },
  {
   "source": [
    "## Modelling"
   ],
   "cell_type": "markdown",
   "metadata": {}
  },
  {
   "source": [
    "### Splitting data"
   ],
   "cell_type": "markdown",
   "metadata": {}
  },
  {
   "cell_type": "code",
   "execution_count": null,
   "metadata": {},
   "outputs": [],
   "source": [
    "X, y = titanic_proccessed.get_features_targets(target_column_names=\"survived\")\n",
    "X_train, X_test, y_train, y_test = train_test_split(X, y, test_size=0.2, random_state=0)\n",
    "cv_train = ShuffleSplit(n_splits=5, test_size=0.2, random_state=0)"
   ]
  },
  {
   "source": [
    "### Create model"
   ],
   "cell_type": "markdown",
   "metadata": {}
  },
  {
   "source": [
    "xgb_model = (\n",
    "    xgb.XGBClassifier(\n",
    "        objective=\"binary:hinge\",\n",
    "        eval_metric=\"error\",\n",
    "        random_state=0,\n",
    "        use_label_encoder=False\n",
    "    )\n",
    "    .fit(X_train, y_train)\n",
    ")"
   ],
   "cell_type": "code",
   "metadata": {},
   "execution_count": null,
   "outputs": []
  },
  {
   "source": [
    "## Model visualization"
   ],
   "cell_type": "markdown",
   "metadata": {}
  },
  {
   "source": [
    "### XGB"
   ],
   "cell_type": "markdown",
   "metadata": {}
  },
  {
   "cell_type": "code",
   "execution_count": null,
   "metadata": {},
   "outputs": [],
   "source": [
    "xgb.plot_importance(xgb_model);"
   ]
  },
  {
   "cell_type": "code",
   "execution_count": null,
   "metadata": {},
   "outputs": [],
   "source": [
    "fig = plt.figure(figsize=(100, 100))\n",
    "axes = fig.add_subplot(111)\n",
    "xgb.plot_tree(xgb_model, ax=axes);"
   ]
  },
  {
   "source": [
    "### SHAP (SHapley Additive exPlanations)"
   ],
   "cell_type": "markdown",
   "metadata": {}
  },
  {
   "cell_type": "code",
   "execution_count": null,
   "metadata": {},
   "outputs": [],
   "source": [
    "explainer = shap.TreeExplainer(xgb_model)\n",
    "shap_values = explainer.shap_values(X_train)"
   ]
  },
  {
   "cell_type": "code",
   "execution_count": null,
   "metadata": {},
   "outputs": [],
   "source": [
    "shap.summary_plot(shap_values, X_train)"
   ]
  },
  {
   "cell_type": "code",
   "execution_count": null,
   "metadata": {},
   "outputs": [],
   "source": [
    "shap.dependence_plot(\"age\", shap_values, X_train)"
   ]
  },
  {
   "cell_type": "code",
   "execution_count": null,
   "metadata": {},
   "outputs": [],
   "source": [
    "shap.initjs()"
   ]
  },
  {
   "cell_type": "code",
   "execution_count": null,
   "metadata": {},
   "outputs": [],
   "source": [
    "shap.force_plot(explainer.expected_value, shap_values[0,:], X_train.iloc[0,:])"
   ]
  },
  {
   "cell_type": "code",
   "execution_count": null,
   "metadata": {},
   "outputs": [],
   "source": [
    "shap.force_plot(explainer.expected_value, shap_values, X_train)"
   ]
  }
 ]
}