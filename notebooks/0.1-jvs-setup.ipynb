{
 "metadata": {
  "language_info": {
   "codemirror_mode": {
    "name": "ipython",
    "version": 3
   },
   "file_extension": ".py",
   "mimetype": "text/x-python",
   "name": "python",
   "nbconvert_exporter": "python",
   "pygments_lexer": "ipython3",
   "version": "3.7.9"
  },
  "orig_nbformat": 2,
  "kernelspec": {
   "name": "python3",
   "display_name": "Python 3",
   "language": "python"
  }
 },
 "nbformat": 4,
 "nbformat_minor": 2,
 "cells": [
  {
   "source": [
    "# 0.1 Set up"
   ],
   "cell_type": "markdown",
   "metadata": {}
  },
  {
   "source": [
    "from pyhere import here"
   ],
   "cell_type": "code",
   "metadata": {},
   "execution_count": 1,
   "outputs": []
  },
  {
   "source": [
    "## Set up project's module\n",
    "\n",
    "To move beyond notebook prototyping, all reusable code should go into the `titanic_platzi/`\n",
    "folder package. To use that package inside your project, install the project's\n",
    "module in editable mode, so you can edit files in the `titanic_platzi/` folder and use the\n",
    "modules inside your notebooks:"
   ],
   "cell_type": "markdown",
   "metadata": {}
  },
  {
   "cell_type": "code",
   "execution_count": 2,
   "metadata": {},
   "outputs": [],
   "source": [
    "!pip install --quiet --editable {here()}"
   ]
  },
  {
   "source": [
    "Now to import the package functions you can use:\n",
    "\n",
    "```python\n",
    "import titanic_platzi\n",
    "```\n",
    "\n",
    "or\n",
    "\n",
    "```python\n",
    "from titanic_platzi\n",
    "```"
   ],
   "cell_type": "markdown",
   "metadata": {}
  },
  {
   "source": [
    "## Build jupyter lab"
   ],
   "cell_type": "markdown",
   "metadata": {}
  },
  {
   "cell_type": "code",
   "execution_count": 3,
   "metadata": {},
   "outputs": [],
   "source": [
    "%%capture\n",
    "!jupyter lab build"
   ]
  }
 ]
}